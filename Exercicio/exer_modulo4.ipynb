{
 "cells": [
  {
   "cell_type": "markdown",
   "metadata": {},
   "source": [
    "# IMPORTS"
   ]
  },
  {
   "cell_type": "code",
   "execution_count": 1,
   "metadata": {},
   "outputs": [],
   "source": [
    "import sqlite3 as sq"
   ]
  },
  {
   "cell_type": "markdown",
   "metadata": {},
   "source": [
    "# Exercicio 1 - Criar tabelas e Inserir dados"
   ]
  },
  {
   "cell_type": "code",
   "execution_count": 2,
   "metadata": {},
   "outputs": [],
   "source": [
    "sql = sq.connect(\"clientes.db\")\n",
    "\n",
    "cursor = sql.cursor()"
   ]
  },
  {
   "cell_type": "markdown",
   "metadata": {},
   "source": [
    "#### Criando tabela de dados cadastrais"
   ]
  },
  {
   "cell_type": "code",
   "execution_count": 4,
   "metadata": {},
   "outputs": [
    {
     "data": {
      "text/plain": [
       "<sqlite3.Cursor at 0x1f8ab0bcd50>"
      ]
     },
     "execution_count": 4,
     "metadata": {},
     "output_type": "execute_result"
    }
   ],
   "source": [
    "#cursor.execute(\"DROP TABLE dados_cadastrais\")\n",
    "\n",
    "cursor.execute(\n",
    "    \"CREATE TABLE dados_cadastrais\\\n",
    "    (id integer, nome text, sobrenome text, data_nasci text, cpf integer, endereco text)\"\n",
    ")"
   ]
  },
  {
   "cell_type": "markdown",
   "metadata": {},
   "source": [
    "#### Criando tabela de Dados Profissionais"
   ]
  },
  {
   "cell_type": "code",
   "execution_count": 5,
   "metadata": {},
   "outputs": [
    {
     "data": {
      "text/plain": [
       "<sqlite3.Cursor at 0x1f8ab0bcd50>"
      ]
     },
     "execution_count": 5,
     "metadata": {},
     "output_type": "execute_result"
    }
   ],
   "source": [
    "#cursor.execute(\"DROP TABLE dados_profissionais\")\n",
    "\n",
    "cursor.execute(\n",
    "    \"CREATE TABLE dados_profissionais\\\n",
    "    (id integer, graduacao text, cargo text, salario decimal, tempo_casa integer)\"\n",
    ")"
   ]
  },
  {
   "cell_type": "markdown",
   "metadata": {},
   "source": [
    "#### Inserindo dados na tabela de Dados Cadastrais e Dados profissionais"
   ]
  },
  {
   "cell_type": "code",
   "execution_count": 6,
   "metadata": {},
   "outputs": [
    {
     "data": {
      "text/plain": [
       "<sqlite3.Cursor at 0x1f8ab0bcd50>"
      ]
     },
     "execution_count": 6,
     "metadata": {},
     "output_type": "execute_result"
    }
   ],
   "source": [
    "#inserindo dados em Dados Cadastrais\n",
    "cursor.execute(\n",
    "    \"INSERT INTO dados_cadastrais\\\n",
    "     VALUES(1, 'maria', 'silva','01/01/2000', 11111211313,'Rua 1 - SP')\"\n",
    ")\n",
    "\n",
    "cursor.execute(\n",
    "    \"INSERT INTO dados_cadastrais\\\n",
    "     VALUES(2, 'joao', 'silva','01/02/2000', 11111211889,'Rua 2 - SP')\"\n",
    ")\n",
    "\n",
    "cursor.execute(\n",
    "    \"INSERT INTO dados_cadastrais\\\n",
    "     VALUES(3, 'pedro', 'pereira','01/03/2000', 11111211786,'Rua 8 - SP')\"\n",
    ")\n",
    "\n",
    "cursor.execute(\n",
    "    \"INSERT INTO dados_cadastrais\\\n",
    "     VALUES(4, 'paulo', 'ribeiro','01/04/2000', 11111211123,'Rua 9 - SP')\"\n",
    ")\n",
    "\n",
    "#Inserindo dados em Dados profissionais\n",
    "\n",
    "cursor.execute(\n",
    "    \"INSERT INTO dados_profissionais\\\n",
    "     VALUES(1, 'matematica', 'professor',3500.89 ,3)\"\n",
    ")\n",
    "\n",
    "cursor.execute(\n",
    "    \"INSERT INTO dados_profissionais\\\n",
    "     VALUES(2, 'geografia', 'orientador',2850.8 ,1)\"\n",
    ")\n",
    "\n",
    "cursor.execute(\n",
    "    \"INSERT INTO dados_profissionais\\\n",
    "     VALUES(3, 'historiador', 'orientador',3200.45 ,1)\"\n",
    ")\n",
    "\n",
    "cursor.execute(\n",
    "    \"INSERT INTO dados_profissionais\\\n",
    "     VALUES(4, 'física', 'professor',1890.33 ,2)\"\n",
    ")"
   ]
  },
  {
   "cell_type": "markdown",
   "metadata": {},
   "source": [
    "## Exercicio 2 - Retorne todos os campos da tabela \"Dados profissionais\" ordenando de forma decrescente a coluna tempo casa"
   ]
  },
  {
   "cell_type": "code",
   "execution_count": 7,
   "metadata": {},
   "outputs": [
    {
     "data": {
      "text/plain": [
       "[(1, 'matematica', 'professor', 3500.89, 3),\n",
       " (4, 'física', 'professor', 1890.33, 2),\n",
       " (3, 'historiador', 'orientador', 3200.45, 1),\n",
       " (2, 'geografia', 'orientador', 2850.8, 1)]"
      ]
     },
     "execution_count": 7,
     "metadata": {},
     "output_type": "execute_result"
    }
   ],
   "source": [
    "cursor.execute(\n",
    "   \"SELECT *\\\n",
    "    FROM dados_profissionais\\\n",
    "    GROUP BY  id\\\n",
    "    ORDER BY tempo_casa DESC\"\n",
    ")\n",
    "cursor.fetchall()"
   ]
  },
  {
   "cell_type": "markdown",
   "metadata": {},
   "source": [
    "## Exercicio 3 - Contar a quantidade de funcionarios da empresa"
   ]
  },
  {
   "cell_type": "code",
   "execution_count": 8,
   "metadata": {},
   "outputs": [
    {
     "data": {
      "text/plain": [
       "[(4,)]"
      ]
     },
     "execution_count": 8,
     "metadata": {},
     "output_type": "execute_result"
    }
   ],
   "source": [
    "cursor.execute(\n",
    "    \"SELECT COUNT(id)\\\n",
    "    FROM dados_profissionais\"\n",
    ")\n",
    "cursor.fetchall()"
   ]
  },
  {
   "cell_type": "markdown",
   "metadata": {},
   "source": [
    "## Exercicio 4 - Utilizando a tabela de dados Cadastrais listar funcionarios com o nome \"SILVA\", ordenados por nome completo (primeiro nome + sobrenome)"
   ]
  },
  {
   "cell_type": "code",
   "execution_count": 9,
   "metadata": {},
   "outputs": [
    {
     "data": {
      "text/plain": [
       "[(2, 'joao', 'silva', '01/02/2000', 11111211889, 'Rua 2 - SP'),\n",
       " (1, 'maria', 'silva', '01/01/2000', 11111211313, 'Rua 1 - SP')]"
      ]
     },
     "execution_count": 9,
     "metadata": {},
     "output_type": "execute_result"
    }
   ],
   "source": [
    "cursor.execute(\n",
    "    \"SELECT *\\\n",
    "    FROM dados_cadastrais\\\n",
    "    WHERE sobrenome == 'silva'\\\n",
    "    ORDER BY nome, sobrenome \"\n",
    ")\n",
    "cursor.fetchall()"
   ]
  },
  {
   "cell_type": "markdown",
   "metadata": {},
   "source": [
    "## Exercicio 5 - Uma Query que liste o valor de pagamento da empresa, por cargo, usando \"dados_profissionais\""
   ]
  },
  {
   "cell_type": "code",
   "execution_count": 10,
   "metadata": {},
   "outputs": [
    {
     "data": {
      "text/plain": [
       "[(6051.25, 'orientador'), (5391.219999999999, 'professor')]"
      ]
     },
     "execution_count": 10,
     "metadata": {},
     "output_type": "execute_result"
    }
   ],
   "source": [
    "cursor.execute(\n",
    "    \"SELECT SUM(salario) as somaSalarioCargo, cargo\\\n",
    "    FROM dados_profissionais\\\n",
    "    GROUP BY cargo\"\n",
    ")\n",
    "cursor.fetchall()"
   ]
  }
 ],
 "metadata": {
  "interpreter": {
   "hash": "6db2c0465d72add132f1a3444284eb10c724ed201a3e8317a6956f9eda5d1a90"
  },
  "kernelspec": {
   "display_name": "Python 3.8.8 64-bit ('base': conda)",
   "name": "python3"
  },
  "language_info": {
   "codemirror_mode": {
    "name": "ipython",
    "version": 3
   },
   "file_extension": ".py",
   "mimetype": "text/x-python",
   "name": "python",
   "nbconvert_exporter": "python",
   "pygments_lexer": "ipython3",
   "version": "3.8.8"
  },
  "orig_nbformat": 4
 },
 "nbformat": 4,
 "nbformat_minor": 2
}
